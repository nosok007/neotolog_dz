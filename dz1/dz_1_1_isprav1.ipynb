{
 "cells": [
  {
   "cell_type": "code",
   "execution_count": 2,
   "metadata": {},
   "outputs": [
    {
     "name": "stdout",
     "output_type": "stream",
     "text": [
      "x1= 62 x2= 61\n",
      "x3= 61 x4= 62\n",
      "Фраза 1 длиннее фразы 2\n"
     ]
    }
   ],
   "source": [
    "phrase_1 = 'Насколько проще было бы писать программы, если бы не заказчики'\n",
    "phrase_2 = '640Кб должно хватить для любых задач. Билл Гейтс (по легенде)'\n",
    "x1 = len(phrase_1)\n",
    "x2 = len(phrase_2)\n",
    "print('x1=', x1, 'x2=', x2)\n",
    "\n",
    "phrase_3 = '640Кб должно хватить для любых задач. Билл Гейтс (по легенде)'\n",
    "phrase_4 = 'Насколько проще было бы писать программы, если бы не заказчики'\n",
    "x3 = len(phrase_3)\n",
    "x4 = len(phrase_4)\n",
    "print('x3=', x3, 'x4=', x4)\n",
    "\n",
    "phrase_5 = 'Насколько проще было бы писать программы, если бы не заказчики'\n",
    "phrase_6 = 'Насколько проще было бы писать программы, если бы не заказчики'\n",
    "x5 = len(phrase_5)\n",
    "x6 = len(phrase_6)\n",
    "\n",
    "if(x1 > x2):\n",
    "    print('Фраза 1 длиннее фразы 2')\n",
    "elif(x3 < x4):\n",
    "    print('Фраза 2 длиннее фразы 1')\n",
    "elif(x5 == x6):\n",
    "    print('Фразы равной длины')\n",
    "\n"
   ]
  },
  {
   "cell_type": "code",
   "execution_count": null,
   "metadata": {},
   "outputs": [],
   "source": []
  }
 ],
 "metadata": {
  "kernelspec": {
   "display_name": "Python 3",
   "language": "python",
   "name": "python3"
  },
  "language_info": {
   "codemirror_mode": {
    "name": "ipython",
    "version": 3
   },
   "file_extension": ".py",
   "mimetype": "text/x-python",
   "name": "python",
   "nbconvert_exporter": "python",
   "pygments_lexer": "ipython3",
   "version": "3.7.3"
  }
 },
 "nbformat": 4,
 "nbformat_minor": 2
}
