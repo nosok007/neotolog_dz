{
 "cells": [
  {
   "cell_type": "code",
   "execution_count": 1,
   "metadata": {},
   "outputs": [
    {
     "name": "stdout",
     "output_type": "stream",
     "text": [
      "6 15\n",
      "123 456\n",
      "билет несчастливый((((\n",
      "6 6\n",
      "123 321\n",
      "билет счастливый)))\n"
     ]
    }
   ],
   "source": [
    "number = 123456\n",
    "x1 = number//1000\n",
    "x2 = number%1000\n",
    "sumX1 = sum(map(int, str(x1)))\n",
    "sumX2 = sum(map(int, str(x2)))\n",
    "print(sumX1, sumX2)\n",
    "print(x1, x2)\n",
    "if(sumX1 != sumX2):\n",
    "    print('билет несчастливый((((')\n",
    "\n",
    "number = 123321\n",
    "x1 = number//1000\n",
    "x2 = number%1000\n",
    "sumX1 = sum(map(int, str(x1)))\n",
    "sumX2 = sum(map(int, str(x2)))\n",
    "print(sumX1, sumX2)\n",
    "print(x1, x2)\n",
    "if(sumX1 == sumX2):\n",
    "    print('билет счастливый)))')"
   ]
  },
  {
   "cell_type": "code",
   "execution_count": null,
   "metadata": {},
   "outputs": [],
   "source": []
  }
 ],
 "metadata": {
  "kernelspec": {
   "display_name": "Python 3",
   "language": "python",
   "name": "python3"
  },
  "language_info": {
   "codemirror_mode": {
    "name": "ipython",
    "version": 3
   },
   "file_extension": ".py",
   "mimetype": "text/x-python",
   "name": "python",
   "nbconvert_exporter": "python",
   "pygments_lexer": "ipython3",
   "version": "3.7.3"
  }
 },
 "nbformat": 4,
 "nbformat_minor": 2
}
