{
 "cells": [
  {
   "cell_type": "code",
   "execution_count": 1,
   "metadata": {},
   "outputs": [
    {
     "name": "stdout",
     "output_type": "stream",
     "text": [
      "Введите фигуру: круг\n",
      "фигура круг\n",
      "Введите радиус: 3\n",
      "радиус 3\n",
      "28.274333882308138\n"
     ]
    }
   ],
   "source": [
    "import math\n",
    "figure = input(\"Введите фигуру: \")\n",
    "print('фигура', figure)\n",
    "if(figure == 'круг'):\n",
    "    r = int(input(\"Введите радиус: \"))\n",
    "    print('радиус', r)\n",
    "    S = math.pi*r**2\n",
    "    print(S)\n",
    "elif(figure == 'треугольник'):\n",
    "    A = int(input(\"Введите сторону А: \"))\n",
    "    B = int(input(\"Введите сторону В: \"))\n",
    "    C = int(input(\"Введите сторону С: \"))\n",
    "    print('стороны', A, B, C)\n",
    "    p = (A+B+C)/2\n",
    "    S = math.sqrt(p*(p-A)*(p-B)*(p-C))\n",
    "    print(S)\n",
    "elif(figure == 'прямоугольник'):\n",
    "    A = int(input(\"Введите сторону А: \"))\n",
    "    B = int(input(\"Введите сторону В: \"))\n",
    "    S = A*B\n",
    "    print(S)"
   ]
  },
  {
   "cell_type": "code",
   "execution_count": null,
   "metadata": {},
   "outputs": [],
   "source": []
  }
 ],
 "metadata": {
  "kernelspec": {
   "display_name": "Python 3",
   "language": "python",
   "name": "python3"
  },
  "language_info": {
   "codemirror_mode": {
    "name": "ipython",
    "version": 3
   },
   "file_extension": ".py",
   "mimetype": "text/x-python",
   "name": "python",
   "nbconvert_exporter": "python",
   "pygments_lexer": "ipython3",
   "version": "3.7.3"
  }
 },
 "nbformat": 4,
 "nbformat_minor": 2
}
