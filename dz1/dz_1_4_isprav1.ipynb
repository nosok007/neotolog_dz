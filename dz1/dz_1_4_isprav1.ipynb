{
 "cells": [
  {
   "cell_type": "code",
   "execution_count": 3,
   "metadata": {},
   "outputs": [
    {
     "name": "stdout",
     "output_type": "stream",
     "text": [
      "15 50 15\n",
      "Стандартная коробка №3\n",
      "45 205 45\n",
      "Упаковка для лыж\n"
     ]
    }
   ],
   "source": [
    "width = 15\n",
    "length = 50\n",
    "height = 15\n",
    "print(width, length, height)\n",
    "if(width < 15 and length < 15 and height < 15):\n",
    "    print('Коробка №1')\n",
    "elif (width > 200 or length > 200 or height > 200):\n",
    "    print('Упаковка для лыж')\n",
    "elif(50 > width > 15 or 50 > length > 15 or 50 > height > 15):\n",
    "    print('Коробка №2')\n",
    "else:(print('Стандартная коробка №3'))\n",
    "\n",
    "width = 45\n",
    "length = 205\n",
    "height = 45\n",
    "print(width, length, height)\n",
    "if(width < 15 and length  <15 and height < 15):\n",
    "    print('Коробка №1')\n",
    "elif (length > 200):\n",
    "    print('Упаковка для лыж')\n",
    "elif(50 > width > 15 or 50 > length > 15 or 50 > height > 15):\n",
    "    print('Коробка №2')\n",
    "else:(print('Стандартная коробка №3'))\n"
   ]
  },
  {
   "cell_type": "code",
   "execution_count": null,
   "metadata": {},
   "outputs": [],
   "source": []
  }
 ],
 "metadata": {
  "kernelspec": {
   "display_name": "Python 3",
   "language": "python",
   "name": "python3"
  },
  "language_info": {
   "codemirror_mode": {
    "name": "ipython",
    "version": 3
   },
   "file_extension": ".py",
   "mimetype": "text/x-python",
   "name": "python",
   "nbconvert_exporter": "python",
   "pygments_lexer": "ipython3",
   "version": "3.7.3"
  }
 },
 "nbformat": 4,
 "nbformat_minor": 2
}
