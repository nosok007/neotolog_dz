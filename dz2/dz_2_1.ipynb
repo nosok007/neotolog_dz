{
 "cells": [
  {
   "cell_type": "markdown",
   "metadata": {},
   "source": [
    "Задание 1\n",
    "Дана переменная, в которой хранится слово из латинских букв. Напишите код, который выводит на экран:\n",
    "\n"
   ]
  },
  {
   "cell_type": "code",
   "execution_count": null,
   "metadata": {},
   "outputs": [],
   "source": [
    "word = input()"
   ]
  },
  {
   "cell_type": "code",
   "execution_count": null,
   "metadata": {},
   "outputs": [],
   "source": [
    "print(word[int(len(word) / 2 - 1) if len(word) % 2 == 0 else int(len(word)/2) : int(len(word) / 2 + 1) if len(word) % 2 == 0 else int(len(word)/2) + 1])\n"
   ]
  },
  {
   "cell_type": "code",
   "execution_count": null,
   "metadata": {},
   "outputs": [],
   "source": [
    "word = input()"
   ]
  },
  {
   "cell_type": "code",
   "execution_count": null,
   "metadata": {},
   "outputs": [],
   "source": [
    "if len(word) % 2 == 0:\n",
    "    print(word[int(len(word) / 2 - 1): int(len(word) / 2 + 1)])\n",
    "else:\n",
    "    len(word) % 2 != 0\n",
    "    print(word[int(len(word) / 2)])"
   ]
  },
  {
   "cell_type": "markdown",
   "metadata": {},
   "source": [
    "Задание 2\n",
    "Напишите программу, которая последовательно запрашивает у пользователя числа (по одному за раз) и после первого нуля выводит сумму всех ранее введенных чисел.\n",
    "\n"
   ]
  },
  {
   "cell_type": "code",
   "execution_count": 2,
   "metadata": {},
   "outputs": [
    {
     "name": "stdout",
     "output_type": "stream",
     "text": [
      "3\n",
      "4\n",
      "0\n",
      "7\n"
     ]
    }
   ],
   "source": [
    "sum_ = []\n",
    "n = 0\n",
    "col = 3\n",
    "#a = input()\n",
    "#sum_ = a\n",
    "\n",
    "while col > n:\n",
    "    z = int(input())\n",
    "    if z == 0:\n",
    "        break\n",
    "    else:\n",
    "        col -= 1\n",
    "        sum_.append(z)\n",
    "print(sum(sum_))\n",
    "\n"
   ]
  },
  {
   "cell_type": "markdown",
   "metadata": {},
   "source": [
    "Задание 3 \n",
    "Мы делаем MVP dating-сервиса, и у нас есть список парней и девушек.\n",
    "Выдвигаем гипотезу: лучшие рекомендации мы получим, если просто отсортируем имена по алфавиту и познакомим людей с одинаковыми индексами после сортировки! Но мы не будем никого знакомить, если кто-то может остаться без пары:"
   ]
  },
  {
   "cell_type": "code",
   "execution_count": 55,
   "metadata": {},
   "outputs": [],
   "source": [
    "boys = ['Peter', 'Alex', 'John', 'Arthur', 'Richard']\n",
    "girls = ['Kate', 'Liza', 'Kira', 'Emma', 'Trisha']"
   ]
  },
  {
   "cell_type": "code",
   "execution_count": 56,
   "metadata": {},
   "outputs": [
    {
     "name": "stdout",
     "output_type": "stream",
     "text": [
      "['Alex', 'Arthur', 'John', 'Peter', 'Richard']\n",
      "['Emma', 'Kate', 'Kira', 'Liza', 'Trisha']\n"
     ]
    }
   ],
   "source": [
    "boys.sort()\n",
    "girls.sort()\n",
    "\n",
    "print(boys)\n",
    "print(girls)"
   ]
  },
  {
   "cell_type": "code",
   "execution_count": 57,
   "metadata": {},
   "outputs": [
    {
     "name": "stdout",
     "output_type": "stream",
     "text": [
      "<zip object at 0x0000026F21F960C8>\n"
     ]
    }
   ],
   "source": [
    "pari = zip(boys, girls)\n",
    "print(pari)"
   ]
  },
  {
   "cell_type": "code",
   "execution_count": 58,
   "metadata": {},
   "outputs": [
    {
     "name": "stdout",
     "output_type": "stream",
     "text": [
      "Идеальные пары: [('Alex', 'Emma'), ('Arthur', 'Kate'), ('John', 'Kira'), ('Peter', 'Liza'), ('Richard', 'Trisha')]\n"
     ]
    }
   ],
   "source": [
    "if len(boys)==len(girls):\n",
    "    print('Идеальные пары:', list(pari))\n",
    "else:\n",
    "    print('Внимание, кто-то может остаться без пары!')"
   ]
  },
  {
   "cell_type": "code",
   "execution_count": 59,
   "metadata": {},
   "outputs": [],
   "source": [
    "boys_ = ['Peter', 'Alex', 'John', 'Arthur', 'Richard', 'Michael']\n",
    "girls_ = ['Kate', 'Liza', 'Kira', 'Emma', 'Trisha']"
   ]
  },
  {
   "cell_type": "code",
   "execution_count": 60,
   "metadata": {},
   "outputs": [
    {
     "name": "stdout",
     "output_type": "stream",
     "text": [
      "Внимание, кто-то может остаться без пары!\n"
     ]
    }
   ],
   "source": [
    "if len(boys_)==len(girls_):\n",
    "    print('Идеальные пары', list(pari))\n",
    "else:\n",
    "    print('Внимание, кто-то может остаться без пары!')\n",
    "    "
   ]
  },
  {
   "cell_type": "markdown",
   "metadata": {},
   "source": [
    "Задание 4\n",
    "У нас есть список, содержащий информацию о среднедневной температуре в Фаренгейтах за произвольный период по странам (структура данных в примере). Необходимо написать код, который рассчитает среднюю температуру за период в Цельсиях(!) для каждой страны."
   ]
  },
  {
   "cell_type": "code",
   "execution_count": 1,
   "metadata": {},
   "outputs": [],
   "source": [
    "countries_temperature = [\n",
    "    ['Thailand', [75.2, 77, 78.8, 73.4, 68, 75.2, 77]],\n",
    "    ['Germany', [57.2, 55.4, 59, 59, 53.6]],\n",
    "    ['Russia', [35.6, 37.4, 39.2, 41, 42.8, 39.2, 35.6]],\n",
    "    ['Poland', [50, 50, 53.6, 57.2, 55.4, 55.4]]\n",
    "]"
   ]
  },
  {
   "cell_type": "code",
   "execution_count": 2,
   "metadata": {},
   "outputs": [
    {
     "name": "stdout",
     "output_type": "stream",
     "text": [
      "\n",
      "Thailand 74.94285714285714\n",
      "\n",
      "Germany 56.839999999999996\n",
      "\n",
      "Russia 38.68571428571429\n",
      "\n",
      "Poland 53.599999999999994\n"
     ]
    }
   ],
   "source": [
    "for cr in countries_temperature:\n",
    "    print()\n",
    "    print(cr[0], sum(cr[1])/len(cr[1]))"
   ]
  },
  {
   "cell_type": "code",
   "execution_count": null,
   "metadata": {},
   "outputs": [],
   "source": []
  }
 ],
 "metadata": {
  "kernelspec": {
   "display_name": "Python 3",
   "language": "python",
   "name": "python3"
  },
  "language_info": {
   "codemirror_mode": {
    "name": "ipython",
    "version": 3
   },
   "file_extension": ".py",
   "mimetype": "text/x-python",
   "name": "python",
   "nbconvert_exporter": "python",
   "pygments_lexer": "ipython3",
   "version": "3.7.3"
  }
 },
 "nbformat": 4,
 "nbformat_minor": 2
}
